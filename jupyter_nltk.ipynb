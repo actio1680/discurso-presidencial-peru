{
 "cells": [
  {
   "cell_type": "markdown",
   "metadata": {},
   "source": [
    "## Instalar paquetes"
   ]
  },
  {
   "cell_type": "code",
   "execution_count": null,
   "metadata": {},
   "outputs": [],
   "source": [
    "# Asegúrate de haber instalado las bibliotecas requeridas usando los comandos pip install antes de ejecutar el script.\n",
    "# pip install PyPDF2\n",
    "# pip install wordcloud\n",
    "# pip install matplotlib\n",
    "# pip install collections\n",
    "# pip install nltk\n",
    "\n",
    "import PyPDF2\n",
    "from nltk import sent_tokenize, word_tokenize, FreqDist\n",
    "from nltk.corpus import stopwords\n",
    "import nltk\n",
    "nltk.download('stopwords')\n",
    "import string\n",
    "from wordcloud import WordCloud\n",
    "import matplotlib.pyplot as plt"
   ]
  },
  {
   "cell_type": "markdown",
   "metadata": {},
   "source": [
    "## Ejecutar código"
   ]
  },
  {
   "cell_type": "code",
   "execution_count": null,
   "metadata": {},
   "outputs": [],
   "source": [
    "def analyze_pdf(pdf_path, num_words):\n",
    "    # Leer el contenido del PDF\n",
    "    with open(pdf_path, 'rb') as file:\n",
    "        pdf_reader = PyPDF2.PdfReader(file)\n",
    "        text = ' '.join(page.extract_text() for page in pdf_reader.pages)\n",
    "    \n",
    "    # Tokenizar en oraciones y palabras\n",
    "    sentences = sent_tokenize(text)\n",
    "    words = word_tokenize(text)\n",
    "    \n",
    "    # Eliminar puntuación y convertir a minúsculas\n",
    "    words = [word.lower() for word in words if word not in string.punctuation]\n",
    "    \n",
    "    # Función personalizada para omitir varias palabras específicas\n",
    "    def should_omit(word):\n",
    "        omit_words = ['s', 'S','C', 'i', 'l','así', '1', 's /','S/','S /','s/','’', 'c', 'sido', 'dos', 'lp']  # Reemplaza con las palabras que deseas omitir\n",
    "        return word in omit_words\n",
    "    \n",
    "    # Eliminar palabras vacías (stop words) y varias palabras específicas\n",
    "    stop_words = set(stopwords.words('spanish'))\n",
    "    words = [word for word in words if word not in stop_words and not should_omit(word)]\n",
    "    \n",
    "    # Calcular la frecuencia de las palabras\n",
    "    word_freq = FreqDist(words)\n",
    "    \n",
    "    # Obtener las palabras más frecuentes\n",
    "    top_words = word_freq.most_common(num_words)\n",
    "    \n",
    "    # Generar la nube de palabras\n",
    "    wordcloud = WordCloud(background_color=\"white\", margin=10, width=800, height=600).generate_from_frequencies(dict(top_words))\n",
    "    \n",
    "    # Mostrar la nube de palabras\n",
    "    plt.imshow(wordcloud, interpolation='bilinear')\n",
    "    plt.axis('off')\n",
    "    plt.show()\n",
    "\n",
    "# Ruta al archivo PDF\n",
    "pdf_path = \"discursos_peru_pdf/C/C.PDF\"\n",
    "\n",
    "# Número de palabras más frecuentes a mostrar en la nube de palabras\n",
    "num_words = 30\n",
    "\n",
    "# Analizar el PDF y generar la nube de palabras con el número de palabras especificado\n",
    "analyze_pdf(pdf_path, num_words)\n"
   ]
  }
 ],
 "metadata": {
  "kernelspec": {
   "display_name": "Python 3",
   "language": "python",
   "name": "python3"
  },
  "language_info": {
   "codemirror_mode": {
    "name": "ipython",
    "version": 3
   },
   "file_extension": ".py",
   "mimetype": "text/x-python",
   "name": "python",
   "nbconvert_exporter": "python",
   "pygments_lexer": "ipython3",
   "version": "3.10.11"
  },
  "orig_nbformat": 4
 },
 "nbformat": 4,
 "nbformat_minor": 2
}
